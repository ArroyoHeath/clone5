{
 "cells": [
  {
   "cell_type": "code",
   "execution_count": null,
   "metadata": {},
   "outputs": [],
   "source": [
    "fName = input(prompt = \"What is your first name?\")             #prompt to the user that asks them for their first name; their input is then assigned to fName\n",
    "lName = input(prompt = \"What is your last name?\")              #prompt to the user asking them for their last name; their input is then assigned to lName\n",
    "height = input(prompt = \"What is your height in inches?\")    #prompt to the user asks them for their height in inches; user input then assigned to height\n",
    "age = input(prompt = \"How old are you?\")                    #prompt to the user asking them their age; user input for age is then assigned to age\n",
    "ageDays = int(age) * 365                                    #the age in days is approximated by multiplying age in years by 365 days\n",
    "heightFt = int(height) / 12                           #the height in feet is calculated by dividing the inches by 12\n",
    "heightIn  = int(height) % 12                            ##the remaining inches is calculated by finding the remainder \n",
    "print(\"Your name is \" + str(fName) + \" \" + str(lName) + \", you are at least \" + str(ageDays) + \" days old, and you are \" + str(int(heightFt)) + \" feet and \" + str(heightIn) + \" inches tall.\") #output statement that pairs all the info together and displays it to the user\n"
   ]
  }
 ],
 "metadata": {
  "kernelspec": {
   "display_name": "Python 3",
   "language": "python",
   "name": "python3"
  },
  "language_info": {
   "codemirror_mode": {
    "name": "ipython",
    "version": 3
   },
   "file_extension": ".py",
   "mimetype": "text/x-python",
   "name": "python",
   "nbconvert_exporter": "python",
   "pygments_lexer": "ipython3",
   "version": "3.8.5"
  }
 },
 "nbformat": 4,
 "nbformat_minor": 5
}
